{
 "cells": [
  {
   "cell_type": "code",
   "execution_count": null,
   "metadata": {},
   "outputs": [],
   "source": [
    "!pip3 install openai\n",
    "!pip3 install git+https://github.com/openai/whisper.git\n",
    "!pip3 install torch torchvision torchaudio  # For PyTorch\n",
    "!pip3 install tensorflow  # For TensorFlow\n",
    "!pip3 install soundfile\n",
    "!pip3 install librosa\n",
    "!pip3 install pyaudio"
   ]
  }
 ],
 "metadata": {
  "kernelspec": {
   "display_name": "base",
   "language": "python",
   "name": "python3"
  },
  "language_info": {
   "name": "python",
   "version": "3.12.7"
  }
 },
 "nbformat": 4,
 "nbformat_minor": 2
}
